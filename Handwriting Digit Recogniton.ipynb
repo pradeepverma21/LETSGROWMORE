{
 "cells": [
  {
   "cell_type": "markdown",
   "id": "68e93bfb",
   "metadata": {},
   "source": [
    "# Lets Grow More"
   ]
  },
  {
   "cell_type": "markdown",
   "id": "0ae2b24a",
   "metadata": {},
   "source": [
    "# Task 1: Advanced"
   ]
  },
  {
   "cell_type": "markdown",
   "id": "42abe45d",
   "metadata": {},
   "source": [
    "# Develop A Neural Network That Can Read Handwriting"
   ]
  },
  {
   "cell_type": "markdown",
   "id": "3b06ca7b",
   "metadata": {},
   "source": [
    "# Importing the Libraries  and load the dataset"
   ]
  },
  {
   "cell_type": "code",
   "execution_count": 41,
   "id": "f0d2c87d",
   "metadata": {},
   "outputs": [],
   "source": [
    "import keras\n",
    "from keras.datasets import mnist\n",
    "\n",
    "# Load the MNIST dataset\n",
    "(x_train, y_train), (x_test, y_test) = mnist.load_data()\n"
   ]
  },
  {
   "cell_type": "markdown",
   "id": "e75ad008",
   "metadata": {},
   "source": [
    "# Data Preprocessing"
   ]
  },
  {
   "cell_type": "code",
   "execution_count": 42,
   "id": "f8243ed7",
   "metadata": {},
   "outputs": [],
   "source": [
    "x_train = x_train.reshape(x_train.shape[0], 28, 28, 1)\n",
    "x_test = x_test.reshape(x_test.shape[0], 28, 28, 1)\n",
    "input_shape = (28, 28, 1)"
   ]
  },
  {
   "cell_type": "markdown",
   "id": "d7eb6b2c",
   "metadata": {},
   "source": [
    "\n",
    "# Convert class vectors to binary class matrices (one-hot encoding)"
   ]
  },
  {
   "cell_type": "code",
   "execution_count": 43,
   "id": "2de7bcfe",
   "metadata": {},
   "outputs": [],
   "source": [
    "num_classes = 10  # There are 10 digits (0 to 9)\n",
    "y_train = keras.utils.to_categorical(y_train, num_classes)\n",
    "y_test = keras.utils.to_categorical(y_test, num_classes)\n",
    "\n",
    "x_train = x_train.astype('float32')\n",
    "x_test = x_test.astype('float32')\n",
    "x_train /= 255\n",
    "x_test /= 255"
   ]
  },
  {
   "cell_type": "markdown",
   "id": "15e64beb",
   "metadata": {},
   "source": [
    "# Printing the shape"
   ]
  },
  {
   "cell_type": "code",
   "execution_count": 44,
   "id": "743838d9",
   "metadata": {},
   "outputs": [
    {
     "name": "stdout",
     "output_type": "stream",
     "text": [
      "x_train shape: (60000, 28, 28, 1)\n",
      "60000 train samples\n",
      "10000 test samples\n"
     ]
    }
   ],
   "source": [
    "print('x_train shape:', x_train.shape)\n",
    "print(x_train.shape[0], 'train samples')\n",
    "print(x_test.shape[0], 'test samples')"
   ]
  },
  {
   "cell_type": "markdown",
   "id": "0835e6f1",
   "metadata": {},
   "source": [
    "# Creating the Model"
   ]
  },
  {
   "cell_type": "code",
   "execution_count": 45,
   "id": "ab041d3a",
   "metadata": {},
   "outputs": [],
   "source": [
    "batch_size = 128\n",
    "num_classes = 10\n",
    "epochs = 10\n",
    "model = Sequential()\n",
    "model.add(Conv2D(32, kernel_size=(3, 3),activation='relu',input_shape=input_shape))\n",
    "model.add(Conv2D(64, (3, 3), activation='relu'))\n",
    "model.add(MaxPooling2D(pool_size=(2, 2)))\n",
    "model.add(Dropout(0.25))\n",
    "model.add(Flatten())\n",
    "model.add(Dense(256, activation='relu'))\n",
    "model.add(Dropout(0.5))\n",
    "model.add(Dense(num_classes, activation='softmax'))\n",
    "model.compile(loss=keras.losses.categorical_crossentropy,optimizer=keras.optimizers.Adadelta(),metrics=['accuracy'])"
   ]
  },
  {
   "cell_type": "markdown",
   "id": "ff9670f5",
   "metadata": {},
   "source": [
    "# Train the model"
   ]
  },
  {
   "cell_type": "code",
   "execution_count": 50,
   "id": "d52adf39",
   "metadata": {},
   "outputs": [
    {
     "name": "stdout",
     "output_type": "stream",
     "text": [
      "Epoch 1/10\n",
      "469/469 [==============================] - 71s 149ms/step - loss: 0.8967 - accuracy: 0.7442 - val_loss: 0.6861 - val_accuracy: 0.8483\n",
      "Epoch 2/10\n",
      "469/469 [==============================] - 73s 156ms/step - loss: 0.8322 - accuracy: 0.7605 - val_loss: 0.6280 - val_accuracy: 0.8567\n",
      "Epoch 3/10\n",
      "469/469 [==============================] - 73s 157ms/step - loss: 0.7795 - accuracy: 0.7711 - val_loss: 0.5807 - val_accuracy: 0.8654\n",
      "Epoch 4/10\n",
      "469/469 [==============================] - 76s 163ms/step - loss: 0.7318 - accuracy: 0.7843 - val_loss: 0.5414 - val_accuracy: 0.8700\n",
      "Epoch 5/10\n",
      "469/469 [==============================] - 75s 160ms/step - loss: 0.6946 - accuracy: 0.7942 - val_loss: 0.5092 - val_accuracy: 0.8775\n",
      "Epoch 6/10\n",
      "469/469 [==============================] - 82s 175ms/step - loss: 0.6632 - accuracy: 0.8023 - val_loss: 0.4824 - val_accuracy: 0.8805\n",
      "Epoch 7/10\n",
      "469/469 [==============================] - 87s 185ms/step - loss: 0.6361 - accuracy: 0.8077 - val_loss: 0.4604 - val_accuracy: 0.8847\n",
      "Epoch 8/10\n",
      "469/469 [==============================] - 88s 188ms/step - loss: 0.6135 - accuracy: 0.8134 - val_loss: 0.4421 - val_accuracy: 0.8875\n",
      "Epoch 9/10\n",
      "469/469 [==============================] - 85s 181ms/step - loss: 0.5887 - accuracy: 0.8224 - val_loss: 0.4260 - val_accuracy: 0.8893\n",
      "Epoch 10/10\n",
      "469/469 [==============================] - 81s 173ms/step - loss: 0.5726 - accuracy: 0.8268 - val_loss: 0.4124 - val_accuracy: 0.8919\n",
      "The model has successfully trained\n",
      "INFO:tensorflow:Assets written to: mnist.h8\\assets\n"
     ]
    },
    {
     "name": "stderr",
     "output_type": "stream",
     "text": [
      "INFO:tensorflow:Assets written to: mnist.h8\\assets\n"
     ]
    },
    {
     "name": "stdout",
     "output_type": "stream",
     "text": [
      "Saving the model as mnist.h8\n"
     ]
    }
   ],
   "source": [
    "hist = model.fit(x_train, y_train,batch_size=batch_size,epochs=epochs,verbose=1,validation_data=(x_test, y_test))\n",
    "print(\"The model has successfully trained\")\n",
    "model.save('mnist.h8')\n",
    "print(\"Saving the model as mnist.h8\")"
   ]
  },
  {
   "cell_type": "markdown",
   "id": "83eeefb3",
   "metadata": {},
   "source": [
    "# Evaluate the model"
   ]
  },
  {
   "cell_type": "code",
   "execution_count": 51,
   "id": "49e8317a",
   "metadata": {},
   "outputs": [
    {
     "name": "stdout",
     "output_type": "stream",
     "text": [
      "Test loss: 0.4123612344264984\n",
      "Test accuracy: 0.8919000029563904\n"
     ]
    }
   ],
   "source": [
    "score = model.evaluate(x_test, y_test, verbose=0)\n",
    "print('Test loss:', score[0])\n",
    "print('Test accuracy:', score[1])"
   ]
  },
  {
   "cell_type": "markdown",
   "id": "d2865073",
   "metadata": {},
   "source": [
    "# Creating a GUI"
   ]
  },
  {
   "cell_type": "code",
   "execution_count": 52,
   "id": "9f5dd114",
   "metadata": {},
   "outputs": [],
   "source": [
    "from keras.models import load_model\n",
    "from tkinter import *\n",
    "import tkinter as tk\n",
    "\n",
    "import win32gui\n",
    "from PIL import ImageGrab, Image\n",
    "import numpy as np"
   ]
  },
  {
   "cell_type": "code",
   "execution_count": 60,
   "id": "4107f012",
   "metadata": {},
   "outputs": [
    {
     "name": "stdout",
     "output_type": "stream",
     "text": [
      "1/1 [==============================] - 0s 61ms/step\n",
      "1/1 [==============================] - 0s 20ms/step\n",
      "1/1 [==============================] - 0s 24ms/step\n",
      "1/1 [==============================] - 0s 21ms/step\n",
      "1/1 [==============================] - 0s 21ms/step\n",
      "1/1 [==============================] - 0s 21ms/step\n"
     ]
    }
   ],
   "source": [
    "\n",
    "model = load_model('mnist.h8')\n",
    "def predict_digit(img):\n",
    "    #resize image to 28x28 pixels\n",
    "    img = img.resize((28,28))\n",
    "    #convert rgb to grayscale\n",
    "    img = img.convert('L')\n",
    "    img = np.array(img)\n",
    "    #reshaping to support our model input and normalizing\n",
    "    img = img.reshape(1,28,28,1)\n",
    "    img = img/255.0\n",
    "    #predicting the class\n",
    "    res = model.predict([img])[0]\n",
    "    return np.argmax(res), max(res)\n",
    "class App(tk.Tk):\n",
    "    def __init__(self):\n",
    "        tk.Tk.__init__(self)\n",
    "        self.x = self.y = 0\n",
    "        # Creating elements\n",
    "        self.canvas = tk.Canvas(self, width=300, height=300, bg = \"white\", cursor=\"cross\")\n",
    "        self.label = tk.Label(self, text=\"Thinking..\", font=(\"Helvetica\", 48))\n",
    "        self.classify_btn = tk.Button(self, text = \"Recognise\", command =         self.classify_handwriting) \n",
    "        self.button_clear = tk.Button(self, text = \"Clear\", command = self.clear_all)\n",
    "        # Grid structure\n",
    "        self.canvas.grid(row=0, column=0, pady=2, sticky=W, )\n",
    "        self.label.grid(row=0, column=1,pady=2, padx=2)\n",
    "        self.classify_btn.grid(row=1, column=1, pady=2, padx=2)\n",
    "        self.button_clear.grid(row=1, column=0, pady=2)\n",
    "        #self.canvas.bind(\"<Motion>\", self.start_pos)\n",
    "        self.canvas.bind(\"<B1-Motion>\", self.draw_lines)\n",
    "    def clear_all(self):\n",
    "        self.canvas.delete(\"all\")\n",
    "    def classify_handwriting(self):\n",
    "        HWND = self.canvas.winfo_id() # get the handle of the canvas\n",
    "        rect = win32gui.GetWindowRect(HWND) # get the coordinate of the canvas\n",
    "        im = ImageGrab.grab(rect)\n",
    "        digit, acc = predict_digit(im)\n",
    "        self.label.configure(text= str(digit)+', '+ str(int(acc*100))+'%')\n",
    "    def draw_lines(self, event):\n",
    "        self.x = event.x\n",
    "        self.y = event.y\n",
    "        r=8\n",
    "        self.canvas.create_oval(self.x-r, self.y-r, self.x + r, self.y + r, fill='black')\n",
    "app = App()\n",
    "mainloop()"
   ]
  },
  {
   "cell_type": "code",
   "execution_count": null,
   "id": "4a90945f",
   "metadata": {},
   "outputs": [],
   "source": []
  },
  {
   "cell_type": "code",
   "execution_count": null,
   "id": "317c3b5f",
   "metadata": {},
   "outputs": [],
   "source": []
  }
 ],
 "metadata": {
  "kernelspec": {
   "display_name": "Python 3 (ipykernel)",
   "language": "python",
   "name": "python3"
  },
  "language_info": {
   "codemirror_mode": {
    "name": "ipython",
    "version": 3
   },
   "file_extension": ".py",
   "mimetype": "text/x-python",
   "name": "python",
   "nbconvert_exporter": "python",
   "pygments_lexer": "ipython3",
   "version": "3.10.9"
  }
 },
 "nbformat": 4,
 "nbformat_minor": 5
}
